{
 "cells": [
  {
   "cell_type": "markdown",
   "metadata": {},
   "source": [
    "# Unit 5 - Financial Planning"
   ]
  },
  {
   "cell_type": "code",
   "execution_count": 1,
   "metadata": {},
   "outputs": [],
   "source": [
    "# Initial imports\n",
    "import os\n",
    "import requests\n",
    "import pandas as pd\n",
    "from dotenv import load_dotenv\n",
    "import alpaca_trade_api as tradeapi\n",
    "from MCForecastTools import MCSimulation\n",
    "\n",
    "%matplotlib inline"
   ]
  },
  {
   "cell_type": "code",
   "execution_count": 2,
   "metadata": {},
   "outputs": [
    {
     "data": {
      "text/plain": [
       "True"
      ]
     },
     "execution_count": 2,
     "metadata": {},
     "output_type": "execute_result"
    }
   ],
   "source": [
    "# Load .env enviroment variables\n",
    "load_dotenv()"
   ]
  },
  {
   "cell_type": "markdown",
   "metadata": {},
   "source": [
    "## Part 1 - Personal Finance Planner"
   ]
  },
  {
   "cell_type": "markdown",
   "metadata": {},
   "source": [
    "### Collect Crypto Prices Using the `requests` Library"
   ]
  },
  {
   "cell_type": "code",
   "execution_count": 3,
   "metadata": {},
   "outputs": [],
   "source": [
    "# Set current amount of crypto assets\n",
    "my_btc = 1.2\n",
    "my_eth = 5.3"
   ]
  },
  {
   "cell_type": "code",
   "execution_count": 4,
   "metadata": {},
   "outputs": [],
   "source": [
    "# Crypto API URLs\n",
    "btc_url = \"https://api.alternative.me/v2/ticker/Bitcoin/?convert=CAD\" + \"?format=json\"\n",
    "eth_url = \"https://api.alternative.me/v2/ticker/Ethereum/?convert=CAD\" + \"?format=json\""
   ]
  },
  {
   "cell_type": "code",
   "execution_count": 5,
   "metadata": {},
   "outputs": [
    {
     "name": "stdout",
     "output_type": "stream",
     "text": [
      "{\n",
      "    \"data\": {\n",
      "        \"1\": {\n",
      "            \"id\": 1,\n",
      "            \"name\": \"Bitcoin\",\n",
      "            \"symbol\": \"BTC\",\n",
      "            \"website_slug\": \"bitcoin\",\n",
      "            \"rank\": 1,\n",
      "            \"circulating_supply\": 18901437,\n",
      "            \"total_supply\": 18901437,\n",
      "            \"max_supply\": 21000000,\n",
      "            \"quotes\": {\n",
      "                \"USD\": {\n",
      "                    \"price\": 48779.0,\n",
      "                    \"volume_24h\": 29191827484,\n",
      "                    \"market_cap\": 919508682967,\n",
      "                    \"percentage_change_1h\": 0.9859033034594,\n",
      "                    \"percentage_change_24h\": 2.93624933062555,\n",
      "                    \"percentage_change_7d\": -3.68985222398029,\n",
      "                    \"percent_change_1h\": 0.9859033034594,\n",
      "                    \"percent_change_24h\": 2.93624933062555,\n",
      "                    \"percent_change_7d\": -3.68985222398029\n",
      "                }\n",
      "            },\n",
      "            \"last_updated\": 1639557542\n",
      "        }\n",
      "    },\n",
      "    \"metadata\": {\n",
      "        \"timestamp\": 1639557542,\n",
      "        \"num_cryptocurrencies\": 3105,\n",
      "        \"error\": null\n",
      "    }\n",
      "}\n",
      "{\n",
      "    \"data\": {\n",
      "        \"1027\": {\n",
      "            \"id\": 1027,\n",
      "            \"name\": \"Ethereum\",\n",
      "            \"symbol\": \"ETH\",\n",
      "            \"website_slug\": \"ethereum\",\n",
      "            \"rank\": 2,\n",
      "            \"circulating_supply\": 118746635,\n",
      "            \"total_supply\": 118746635,\n",
      "            \"max_supply\": 0,\n",
      "            \"quotes\": {\n",
      "                \"USD\": {\n",
      "                    \"price\": 3905.26,\n",
      "                    \"volume_24h\": 19336231371,\n",
      "                    \"market_cap\": 462754564634,\n",
      "                    \"percentage_change_1h\": 0.830450260570987,\n",
      "                    \"percentage_change_24h\": 2.29099736797629,\n",
      "                    \"percentage_change_7d\": -9.40260739231244,\n",
      "                    \"percent_change_1h\": 0.830450260570987,\n",
      "                    \"percent_change_24h\": 2.29099736797629,\n",
      "                    \"percent_change_7d\": -9.40260739231244\n",
      "                }\n",
      "            },\n",
      "            \"last_updated\": 1639557498\n",
      "        }\n",
      "    },\n",
      "    \"metadata\": {\n",
      "        \"timestamp\": 1639557498,\n",
      "        \"num_cryptocurrencies\": 3105,\n",
      "        \"error\": null\n",
      "    }\n",
      "}\n"
     ]
    }
   ],
   "source": [
    "# Fetch current BTC price\n",
    "\n",
    "import json\n",
    "\n",
    "btc_data= requests.get(btc_url).json()\n",
    "\n",
    "# Fetch current ETH price\n",
    "eth_data = requests.get(eth_url).json()\n",
    "\n",
    "# Compute current value of my crpto\n",
    "print(json.dumps(btc_data, indent=4))\n",
    "print(json.dumps(eth_data, indent=4))"
   ]
  },
  {
   "cell_type": "markdown",
   "metadata": {},
   "source": [
    "### Collect Investments Data Using Alpaca: `SPY` (stocks) and `AGG` (bonds)"
   ]
  },
  {
   "cell_type": "code",
   "execution_count": 6,
   "metadata": {},
   "outputs": [
    {
     "name": "stdout",
     "output_type": "stream",
     "text": [
      "The current value of your 1.2 BTC is $58534.80.\n",
      "The current value of your 5.3 ETH is $20697.88.\n"
     ]
    }
   ],
   "source": [
    "# Print current crypto wallet balance\n",
    "btc_value = btc_data[\"data\"][\"1\"][\"quotes\"][\"USD\"][\"price\"]\n",
    "my_btc_value = my_btc * btc_value\n",
    "\n",
    "eth_value = eth_data[\"data\"][\"1027\"][\"quotes\"][\"USD\"][\"price\"]\n",
    "my_eth_value = my_eth * eth_value\n",
    "\n",
    "print(f\"The current value of your {my_btc} BTC is ${my_btc_value:0.2f}.\")\n",
    "print(f\"The current value of your {my_eth} ETH is ${my_eth_value:0.2f}.\")"
   ]
  },
  {
   "cell_type": "code",
   "execution_count": 7,
   "metadata": {},
   "outputs": [],
   "source": [
    "# Set current amount of shares\n",
    "my_agg = 200\n",
    "my_spy = 50"
   ]
  },
  {
   "cell_type": "code",
   "execution_count": 8,
   "metadata": {},
   "outputs": [],
   "source": [
    "# Set Alpaca API key and secret\n",
    "api_key = os.getenv(\"ALPACA_API_KEY\")\n",
    "secret_key = os.getenv(\"ALPACA_SECRET_KEY\")\n",
    "\n",
    "# Create the Alpaca API object\n",
    "api = tradeapi.REST(\n",
    "    api_key,\n",
    "    secret_key,\n",
    "    api_version=\"v2\"\n",
    ")"
   ]
  },
  {
   "cell_type": "code",
   "execution_count": 9,
   "metadata": {},
   "outputs": [
    {
     "data": {
      "text/html": [
       "<div>\n",
       "<style scoped>\n",
       "    .dataframe tbody tr th:only-of-type {\n",
       "        vertical-align: middle;\n",
       "    }\n",
       "\n",
       "    .dataframe tbody tr th {\n",
       "        vertical-align: top;\n",
       "    }\n",
       "\n",
       "    .dataframe thead tr th {\n",
       "        text-align: left;\n",
       "    }\n",
       "\n",
       "    .dataframe thead tr:last-of-type th {\n",
       "        text-align: right;\n",
       "    }\n",
       "</style>\n",
       "<table border=\"1\" class=\"dataframe\">\n",
       "  <thead>\n",
       "    <tr>\n",
       "      <th></th>\n",
       "      <th colspan=\"5\" halign=\"left\">AGG</th>\n",
       "      <th colspan=\"5\" halign=\"left\">SPY</th>\n",
       "    </tr>\n",
       "    <tr>\n",
       "      <th></th>\n",
       "      <th>open</th>\n",
       "      <th>high</th>\n",
       "      <th>low</th>\n",
       "      <th>close</th>\n",
       "      <th>volume</th>\n",
       "      <th>open</th>\n",
       "      <th>high</th>\n",
       "      <th>low</th>\n",
       "      <th>close</th>\n",
       "      <th>volume</th>\n",
       "    </tr>\n",
       "    <tr>\n",
       "      <th>time</th>\n",
       "      <th></th>\n",
       "      <th></th>\n",
       "      <th></th>\n",
       "      <th></th>\n",
       "      <th></th>\n",
       "      <th></th>\n",
       "      <th></th>\n",
       "      <th></th>\n",
       "      <th></th>\n",
       "      <th></th>\n",
       "    </tr>\n",
       "  </thead>\n",
       "  <tbody>\n",
       "    <tr>\n",
       "      <th>2021-12-09 00:00:00-05:00</th>\n",
       "      <td>114.28</td>\n",
       "      <td>114.386</td>\n",
       "      <td>114.12</td>\n",
       "      <td>114.2</td>\n",
       "      <td>8223995</td>\n",
       "      <td>468.15</td>\n",
       "      <td>469.6291</td>\n",
       "      <td>466.14</td>\n",
       "      <td>466.34</td>\n",
       "      <td>54963509</td>\n",
       "    </tr>\n",
       "  </tbody>\n",
       "</table>\n",
       "</div>"
      ],
      "text/plain": [
       "                              AGG                                      SPY  \\\n",
       "                             open     high     low  close   volume    open   \n",
       "time                                                                         \n",
       "2021-12-09 00:00:00-05:00  114.28  114.386  114.12  114.2  8223995  468.15   \n",
       "\n",
       "                                                               \n",
       "                               high     low   close    volume  \n",
       "time                                                           \n",
       "2021-12-09 00:00:00-05:00  469.6291  466.14  466.34  54963509  "
      ]
     },
     "execution_count": 9,
     "metadata": {},
     "output_type": "execute_result"
    }
   ],
   "source": [
    "# Format current date as ISO format\n",
    "current_date = pd.Timestamp('2021-12-09', tz='America/New_York').isoformat()\n",
    "\n",
    "# Set the tickers\n",
    "tickers = [\"AGG\", \"SPY\"]\n",
    "\n",
    "# Set timeframe to '1D' for Alpaca API\n",
    "timeframe = \"1D\"\n",
    "\n",
    "# Get current closing prices for SPY and AGG\n",
    "# (use a limit=1000 parameter to call the most recent 1000 days of data)\n",
    "\n",
    "df_ticker = api.get_barset(\n",
    "    tickers,\n",
    "    timeframe,\n",
    "    start=current_date,\n",
    "    end=current_date,\n",
    "    limit=1000\n",
    ").df\n",
    "\n",
    "# Preview DataFrame\n",
    "df_ticker.head()"
   ]
  },
  {
   "cell_type": "code",
   "execution_count": 10,
   "metadata": {},
   "outputs": [
    {
     "name": "stdout",
     "output_type": "stream",
     "text": [
      "Current AGG closing price is $114.2.\n",
      "Current SPY closing price is $466.34.\n"
     ]
    }
   ],
   "source": [
    "# Pick AGG and SPY close prices\n",
    "agg_close_price = float(df_ticker[\"AGG\"][\"close\"])\n",
    "spy_close_price =float(df_ticker[\"SPY\"][\"close\"])\n",
    "\n",
    "# Print AGG and SPY close prices\n",
    "print(f\"Current AGG closing price is ${agg_close_price}.\")\n",
    "print(f\"Current SPY closing price is ${spy_close_price}.\")"
   ]
  },
  {
   "cell_type": "code",
   "execution_count": 11,
   "metadata": {},
   "outputs": [
    {
     "name": "stdout",
     "output_type": "stream",
     "text": [
      "The current value of your 50 SPY shares is $23317.00.\n",
      "The current value of your 200 AGG shares is $22840.00.\n"
     ]
    }
   ],
   "source": [
    "# Compute the current value of shares\n",
    "my_agg_value = my_agg * agg_close_price\n",
    "my_spy_value = my_spy * spy_close_price\n",
    "\n",
    "# Print current value of shares\n",
    "print(f\"The current value of your {my_spy} SPY shares is ${my_spy_value:0.2f}.\")\n",
    "print(f\"The current value of your {my_agg} AGG shares is ${my_agg_value:0.2f}.\")"
   ]
  },
  {
   "cell_type": "markdown",
   "metadata": {},
   "source": [
    "### Savings Health Analysis"
   ]
  },
  {
   "cell_type": "code",
   "execution_count": 12,
   "metadata": {},
   "outputs": [
    {
     "data": {
      "text/html": [
       "<div>\n",
       "<style scoped>\n",
       "    .dataframe tbody tr th:only-of-type {\n",
       "        vertical-align: middle;\n",
       "    }\n",
       "\n",
       "    .dataframe tbody tr th {\n",
       "        vertical-align: top;\n",
       "    }\n",
       "\n",
       "    .dataframe thead th {\n",
       "        text-align: right;\n",
       "    }\n",
       "</style>\n",
       "<table border=\"1\" class=\"dataframe\">\n",
       "  <thead>\n",
       "    <tr style=\"text-align: right;\">\n",
       "      <th></th>\n",
       "      <th>amount</th>\n",
       "    </tr>\n",
       "  </thead>\n",
       "  <tbody>\n",
       "    <tr>\n",
       "      <th>crypto</th>\n",
       "      <td>79232.678</td>\n",
       "    </tr>\n",
       "    <tr>\n",
       "      <th>shares</th>\n",
       "      <td>46157.000</td>\n",
       "    </tr>\n",
       "  </tbody>\n",
       "</table>\n",
       "</div>"
      ],
      "text/plain": [
       "           amount\n",
       "crypto  79232.678\n",
       "shares  46157.000"
      ]
     },
     "metadata": {},
     "output_type": "display_data"
    }
   ],
   "source": [
    "# Set monthly household income\n",
    "monthly_income = 12000\n",
    "total_crypto = my_btc_value + my_eth_value\n",
    "total_shares = my_agg_value + my_spy_value\n",
    "\n",
    "# Consolidate financial assets data\n",
    "financial_assets = {\"amount\":[total_crypto, total_shares]}\n",
    "\n",
    "# Create savings DataFrame\n",
    "df_savings = pd.DataFrame(financial_assets, index=[\"crypto\", \"shares\"])\n",
    "\n",
    "# Display savings DataFrame\n",
    "display(df_savings)"
   ]
  },
  {
   "cell_type": "code",
   "execution_count": 13,
   "metadata": {},
   "outputs": [
    {
     "data": {
      "image/png": "[encoded data removed]",
      "text/plain": [
       "<Figure size 432x288 with 1 Axes>"
      ]
     },
     "metadata": {},
     "output_type": "display_data"
    }
   ],
   "source": [
    "# Plot savings pie chart\n",
    "df_savings.plot.pie(y=\"amount\", title = \"Composition of Personal Savings\");"
   ]
  },
  {
   "cell_type": "code",
   "execution_count": 14,
   "metadata": {},
   "outputs": [
    {
     "name": "stdout",
     "output_type": "stream",
     "text": [
      "Contragulations! You have enough money in this fund.\n"
     ]
    }
   ],
   "source": [
    "# Set ideal emergency fund\n",
    "emergency_fund = monthly_income * 3\n",
    "\n",
    "# Calculate total amount of savings\n",
    "total_savings = total_crypto + total_shares\n",
    "\n",
    "# Validate saving health\n",
    "if emergency_fund < total_savings:\n",
    "    print(\"Contragulations! You have enough money in this fund.\")\n",
    "elif emergency_fund == total_savings:\n",
    "    print(\"Congratulations for reaching your goal!\")\n",
    "elif emergancy_fund > total_fund:\n",
    "    print(f\"Your are ${emergency_fund - total_savings} away from reaching your goal.\")"
   ]
  },
  {
   "cell_type": "markdown",
   "metadata": {},
   "source": [
    "## Part 2 - Retirement Planning\n",
    "\n",
    "### Monte Carlo Simulation"
   ]
  },
  {
   "cell_type": "code",
   "execution_count": 15,
   "metadata": {},
   "outputs": [],
   "source": [
    "# Set start and end dates of five years back from today.\n",
    "# Sample results may vary from the solution based on the time frame chosen\n",
    "start_date = pd.Timestamp('2017-12-09', tz='America/New_York').isoformat()\n",
    "end_date = pd.Timestamp('2021-12-09', tz='America/New_York').isoformat()"
   ]
  },
  {
   "cell_type": "code",
   "execution_count": 16,
   "metadata": {},
   "outputs": [
    {
     "data": {
      "text/html": [
       "<div>\n",
       "<style scoped>\n",
       "    .dataframe tbody tr th:only-of-type {\n",
       "        vertical-align: middle;\n",
       "    }\n",
       "\n",
       "    .dataframe tbody tr th {\n",
       "        vertical-align: top;\n",
       "    }\n",
       "\n",
       "    .dataframe thead tr th {\n",
       "        text-align: left;\n",
       "    }\n",
       "\n",
       "    .dataframe thead tr:last-of-type th {\n",
       "        text-align: right;\n",
       "    }\n",
       "</style>\n",
       "<table border=\"1\" class=\"dataframe\">\n",
       "  <thead>\n",
       "    <tr>\n",
       "      <th></th>\n",
       "      <th colspan=\"5\" halign=\"left\">AGG</th>\n",
       "      <th colspan=\"5\" halign=\"left\">SPY</th>\n",
       "    </tr>\n",
       "    <tr>\n",
       "      <th></th>\n",
       "      <th>open</th>\n",
       "      <th>high</th>\n",
       "      <th>low</th>\n",
       "      <th>close</th>\n",
       "      <th>volume</th>\n",
       "      <th>open</th>\n",
       "      <th>high</th>\n",
       "      <th>low</th>\n",
       "      <th>close</th>\n",
       "      <th>volume</th>\n",
       "    </tr>\n",
       "    <tr>\n",
       "      <th>time</th>\n",
       "      <th></th>\n",
       "      <th></th>\n",
       "      <th></th>\n",
       "      <th></th>\n",
       "      <th></th>\n",
       "      <th></th>\n",
       "      <th></th>\n",
       "      <th></th>\n",
       "      <th></th>\n",
       "      <th></th>\n",
       "    </tr>\n",
       "  </thead>\n",
       "  <tbody>\n",
       "    <tr>\n",
       "      <th>2021-05-06 00:00:00-04:00</th>\n",
       "      <td>114.55</td>\n",
       "      <td>114.7100</td>\n",
       "      <td>114.53</td>\n",
       "      <td>114.65</td>\n",
       "      <td>4557111.0</td>\n",
       "      <td>415.83</td>\n",
       "      <td>419.21</td>\n",
       "      <td>413.675</td>\n",
       "      <td>419.08</td>\n",
       "      <td>65397203.0</td>\n",
       "    </tr>\n",
       "    <tr>\n",
       "      <th>2021-01-27 00:00:00-05:00</th>\n",
       "      <td>117.61</td>\n",
       "      <td>117.6700</td>\n",
       "      <td>117.04</td>\n",
       "      <td>117.52</td>\n",
       "      <td>3509666.0</td>\n",
       "      <td>380.22</td>\n",
       "      <td>380.32</td>\n",
       "      <td>372.010</td>\n",
       "      <td>374.44</td>\n",
       "      <td>99246554.0</td>\n",
       "    </tr>\n",
       "    <tr>\n",
       "      <th>2018-07-11 00:00:00-04:00</th>\n",
       "      <td>106.33</td>\n",
       "      <td>106.3500</td>\n",
       "      <td>106.22</td>\n",
       "      <td>106.30</td>\n",
       "      <td>3892608.0</td>\n",
       "      <td>277.14</td>\n",
       "      <td>278.04</td>\n",
       "      <td>276.520</td>\n",
       "      <td>276.91</td>\n",
       "      <td>56481952.0</td>\n",
       "    </tr>\n",
       "    <tr>\n",
       "      <th>2019-01-03 00:00:00-05:00</th>\n",
       "      <td>106.57</td>\n",
       "      <td>107.0750</td>\n",
       "      <td>106.57</td>\n",
       "      <td>107.02</td>\n",
       "      <td>6260265.0</td>\n",
       "      <td>248.23</td>\n",
       "      <td>248.57</td>\n",
       "      <td>244.030</td>\n",
       "      <td>244.46</td>\n",
       "      <td>113782919.0</td>\n",
       "    </tr>\n",
       "    <tr>\n",
       "      <th>2018-05-22 00:00:00-04:00</th>\n",
       "      <td>105.32</td>\n",
       "      <td>105.3712</td>\n",
       "      <td>105.28</td>\n",
       "      <td>105.32</td>\n",
       "      <td>2057403.0</td>\n",
       "      <td>273.96</td>\n",
       "      <td>274.25</td>\n",
       "      <td>272.240</td>\n",
       "      <td>272.56</td>\n",
       "      <td>39456475.0</td>\n",
       "    </tr>\n",
       "  </tbody>\n",
       "</table>\n",
       "</div>"
      ],
      "text/plain": [
       "                              AGG                                       \\\n",
       "                             open      high     low   close     volume   \n",
       "time                                                                     \n",
       "2021-05-06 00:00:00-04:00  114.55  114.7100  114.53  114.65  4557111.0   \n",
       "2021-01-27 00:00:00-05:00  117.61  117.6700  117.04  117.52  3509666.0   \n",
       "2018-07-11 00:00:00-04:00  106.33  106.3500  106.22  106.30  3892608.0   \n",
       "2019-01-03 00:00:00-05:00  106.57  107.0750  106.57  107.02  6260265.0   \n",
       "2018-05-22 00:00:00-04:00  105.32  105.3712  105.28  105.32  2057403.0   \n",
       "\n",
       "                              SPY                                        \n",
       "                             open    high      low   close       volume  \n",
       "time                                                                     \n",
       "2021-05-06 00:00:00-04:00  415.83  419.21  413.675  419.08   65397203.0  \n",
       "2021-01-27 00:00:00-05:00  380.22  380.32  372.010  374.44   99246554.0  \n",
       "2018-07-11 00:00:00-04:00  277.14  278.04  276.520  276.91   56481952.0  \n",
       "2019-01-03 00:00:00-05:00  248.23  248.57  244.030  244.46  113782919.0  \n",
       "2018-05-22 00:00:00-04:00  273.96  274.25  272.240  272.56   39456475.0  "
      ]
     },
     "execution_count": 16,
     "metadata": {},
     "output_type": "execute_result"
    }
   ],
   "source": [
    "# Get 5 years' worth of historical data for SPY and AGG\n",
    "# (use a limit=1000 parameter to call the most recent 1000 days of data)\n",
    "\n",
    "df_stock_data = api.get_barset(\n",
    "    tickers,\n",
    "    timeframe,\n",
    "    start=start_date,\n",
    "    end=end_date,\n",
    "    limit=1000\n",
    ").df\n",
    "\n",
    "# Display sample data\n",
    "df_stock_data.sample(5)"
   ]
  },
  {
   "cell_type": "code",
   "execution_count": 17,
   "metadata": {},
   "outputs": [],
   "source": [
    "# Configuring a Monte Carlo simulation to forecast 30 years cumulative returns\n",
    "\n",
    "MC_even_dist = MCSimulation(\n",
    "    portfolio_data = df_stock_data, \n",
    "    weights =[.60, .40],\n",
    "    num_simulation = 500,\n",
    "    num_trading_days = 252*30)"
   ]
  },
  {
   "cell_type": "code",
   "execution_count": 18,
   "metadata": {},
   "outputs": [
    {
     "data": {
      "text/html": [
       "<div>\n",
       "<style scoped>\n",
       "    .dataframe tbody tr th:only-of-type {\n",
       "        vertical-align: middle;\n",
       "    }\n",
       "\n",
       "    .dataframe tbody tr th {\n",
       "        vertical-align: top;\n",
       "    }\n",
       "\n",
       "    .dataframe thead tr th {\n",
       "        text-align: left;\n",
       "    }\n",
       "\n",
       "    .dataframe thead tr:last-of-type th {\n",
       "        text-align: right;\n",
       "    }\n",
       "</style>\n",
       "<table border=\"1\" class=\"dataframe\">\n",
       "  <thead>\n",
       "    <tr>\n",
       "      <th></th>\n",
       "      <th colspan=\"6\" halign=\"left\">AGG</th>\n",
       "      <th colspan=\"6\" halign=\"left\">SPY</th>\n",
       "    </tr>\n",
       "    <tr>\n",
       "      <th></th>\n",
       "      <th>open</th>\n",
       "      <th>high</th>\n",
       "      <th>low</th>\n",
       "      <th>close</th>\n",
       "      <th>volume</th>\n",
       "      <th>daily_return</th>\n",
       "      <th>open</th>\n",
       "      <th>high</th>\n",
       "      <th>low</th>\n",
       "      <th>close</th>\n",
       "      <th>volume</th>\n",
       "      <th>daily_return</th>\n",
       "    </tr>\n",
       "    <tr>\n",
       "      <th>time</th>\n",
       "      <th></th>\n",
       "      <th></th>\n",
       "      <th></th>\n",
       "      <th></th>\n",
       "      <th></th>\n",
       "      <th></th>\n",
       "      <th></th>\n",
       "      <th></th>\n",
       "      <th></th>\n",
       "      <th></th>\n",
       "      <th></th>\n",
       "      <th></th>\n",
       "    </tr>\n",
       "  </thead>\n",
       "  <tbody>\n",
       "    <tr>\n",
       "      <th>2017-12-19 00:00:00-05:00</th>\n",
       "      <td>109.14</td>\n",
       "      <td>109.16</td>\n",
       "      <td>108.8900</td>\n",
       "      <td>109.00</td>\n",
       "      <td>2583809.0</td>\n",
       "      <td>NaN</td>\n",
       "      <td>NaN</td>\n",
       "      <td>NaN</td>\n",
       "      <td>NaN</td>\n",
       "      <td>NaN</td>\n",
       "      <td>NaN</td>\n",
       "      <td>NaN</td>\n",
       "    </tr>\n",
       "    <tr>\n",
       "      <th>2017-12-20 00:00:00-05:00</th>\n",
       "      <td>108.75</td>\n",
       "      <td>108.88</td>\n",
       "      <td>108.7059</td>\n",
       "      <td>108.77</td>\n",
       "      <td>3123756.0</td>\n",
       "      <td>-0.002110</td>\n",
       "      <td>268.25</td>\n",
       "      <td>268.330</td>\n",
       "      <td>266.690</td>\n",
       "      <td>267.04</td>\n",
       "      <td>42133908.0</td>\n",
       "      <td>NaN</td>\n",
       "    </tr>\n",
       "    <tr>\n",
       "      <th>2017-12-21 00:00:00-05:00</th>\n",
       "      <td>108.76</td>\n",
       "      <td>108.87</td>\n",
       "      <td>108.7300</td>\n",
       "      <td>108.83</td>\n",
       "      <td>2173058.0</td>\n",
       "      <td>0.000552</td>\n",
       "      <td>267.73</td>\n",
       "      <td>268.385</td>\n",
       "      <td>267.300</td>\n",
       "      <td>267.57</td>\n",
       "      <td>34999954.0</td>\n",
       "      <td>0.001985</td>\n",
       "    </tr>\n",
       "    <tr>\n",
       "      <th>2017-12-22 00:00:00-05:00</th>\n",
       "      <td>108.82</td>\n",
       "      <td>108.89</td>\n",
       "      <td>108.8100</td>\n",
       "      <td>108.88</td>\n",
       "      <td>2952430.0</td>\n",
       "      <td>0.000459</td>\n",
       "      <td>267.60</td>\n",
       "      <td>267.635</td>\n",
       "      <td>266.900</td>\n",
       "      <td>267.48</td>\n",
       "      <td>36604044.0</td>\n",
       "      <td>-0.000336</td>\n",
       "    </tr>\n",
       "    <tr>\n",
       "      <th>2017-12-26 00:00:00-05:00</th>\n",
       "      <td>108.91</td>\n",
       "      <td>109.01</td>\n",
       "      <td>108.8700</td>\n",
       "      <td>108.96</td>\n",
       "      <td>1717408.0</td>\n",
       "      <td>0.000735</td>\n",
       "      <td>267.06</td>\n",
       "      <td>267.390</td>\n",
       "      <td>266.885</td>\n",
       "      <td>267.17</td>\n",
       "      <td>24888478.0</td>\n",
       "      <td>-0.001159</td>\n",
       "    </tr>\n",
       "  </tbody>\n",
       "</table>\n",
       "</div>"
      ],
      "text/plain": [
       "                              AGG                                       \\\n",
       "                             open    high       low   close     volume   \n",
       "time                                                                     \n",
       "2017-12-19 00:00:00-05:00  109.14  109.16  108.8900  109.00  2583809.0   \n",
       "2017-12-20 00:00:00-05:00  108.75  108.88  108.7059  108.77  3123756.0   \n",
       "2017-12-21 00:00:00-05:00  108.76  108.87  108.7300  108.83  2173058.0   \n",
       "2017-12-22 00:00:00-05:00  108.82  108.89  108.8100  108.88  2952430.0   \n",
       "2017-12-26 00:00:00-05:00  108.91  109.01  108.8700  108.96  1717408.0   \n",
       "\n",
       "                                           SPY                            \\\n",
       "                          daily_return    open     high      low   close   \n",
       "time                                                                       \n",
       "2017-12-19 00:00:00-05:00          NaN     NaN      NaN      NaN     NaN   \n",
       "2017-12-20 00:00:00-05:00    -0.002110  268.25  268.330  266.690  267.04   \n",
       "2017-12-21 00:00:00-05:00     0.000552  267.73  268.385  267.300  267.57   \n",
       "2017-12-22 00:00:00-05:00     0.000459  267.60  267.635  266.900  267.48   \n",
       "2017-12-26 00:00:00-05:00     0.000735  267.06  267.390  266.885  267.17   \n",
       "\n",
       "                                                    \n",
       "                               volume daily_return  \n",
       "time                                                \n",
       "2017-12-19 00:00:00-05:00         NaN          NaN  \n",
       "2017-12-20 00:00:00-05:00  42133908.0          NaN  \n",
       "2017-12-21 00:00:00-05:00  34999954.0     0.001985  \n",
       "2017-12-22 00:00:00-05:00  36604044.0    -0.000336  \n",
       "2017-12-26 00:00:00-05:00  24888478.0    -0.001159  "
      ]
     },
     "execution_count": 18,
     "metadata": {},
     "output_type": "execute_result"
    }
   ],
   "source": [
    "# Printing the simulation input data\n",
    "MC_even_dist.portfolio_data.head()"
   ]
  },
  {
   "cell_type": "code",
   "execution_count": 19,
   "metadata": {},
   "outputs": [
    {
     "name": "stdout",
     "output_type": "stream",
     "text": [
      "Running Monte Carlo simulation number 0.\n",
      "Running Monte Carlo simulation number 10.\n",
      "Running Monte Carlo simulation number 20.\n",
      "Running Monte Carlo simulation number 30.\n",
      "Running Monte Carlo simulation number 40.\n",
      "Running Monte Carlo simulation number 50.\n",
      "Running Monte Carlo simulation number 60.\n",
      "Running Monte Carlo simulation number 70.\n",
      "Running Monte Carlo simulation number 80.\n",
      "Running Monte Carlo simulation number 90.\n",
      "Running Monte Carlo simulation number 100.\n"
     ]
    },
    {
     "name": "stderr",
     "output_type": "stream",
     "text": [
      "/Users/kimberleyng/api-homework/MCForecastTools.py:117: PerformanceWarning: DataFrame is highly fragmented.  This is usually the result of calling `frame.insert` many times, which has poor performance.  Consider joining all columns at once using pd.concat(axis=1) instead.  To get a de-fragmented frame, use `newframe = frame.copy()`\n",
      "  portfolio_cumulative_returns[n] = (1 + sim_df.fillna(0)).cumprod()\n"
     ]
    },
    {
     "name": "stdout",
     "output_type": "stream",
     "text": [
      "Running Monte Carlo simulation number 110.\n",
      "Running Monte Carlo simulation number 120.\n",
      "Running Monte Carlo simulation number 130.\n",
      "Running Monte Carlo simulation number 140.\n",
      "Running Monte Carlo simulation number 150.\n",
      "Running Monte Carlo simulation number 160.\n",
      "Running Monte Carlo simulation number 170.\n",
      "Running Monte Carlo simulation number 180.\n",
      "Running Monte Carlo simulation number 190.\n",
      "Running Monte Carlo simulation number 200.\n",
      "Running Monte Carlo simulation number 210.\n",
      "Running Monte Carlo simulation number 220.\n",
      "Running Monte Carlo simulation number 230.\n",
      "Running Monte Carlo simulation number 240.\n",
      "Running Monte Carlo simulation number 250.\n",
      "Running Monte Carlo simulation number 260.\n",
      "Running Monte Carlo simulation number 270.\n",
      "Running Monte Carlo simulation number 280.\n",
      "Running Monte Carlo simulation number 290.\n",
      "Running Monte Carlo simulation number 300.\n",
      "Running Monte Carlo simulation number 310.\n",
      "Running Monte Carlo simulation number 320.\n",
      "Running Monte Carlo simulation number 330.\n",
      "Running Monte Carlo simulation number 340.\n",
      "Running Monte Carlo simulation number 350.\n",
      "Running Monte Carlo simulation number 360.\n",
      "Running Monte Carlo simulation number 370.\n",
      "Running Monte Carlo simulation number 380.\n",
      "Running Monte Carlo simulation number 390.\n",
      "Running Monte Carlo simulation number 400.\n",
      "Running Monte Carlo simulation number 410.\n",
      "Running Monte Carlo simulation number 420.\n",
      "Running Monte Carlo simulation number 430.\n",
      "Running Monte Carlo simulation number 440.\n",
      "Running Monte Carlo simulation number 450.\n",
      "Running Monte Carlo simulation number 460.\n",
      "Running Monte Carlo simulation number 470.\n",
      "Running Monte Carlo simulation number 480.\n",
      "Running Monte Carlo simulation number 490.\n"
     ]
    },
    {
     "data": {
      "text/html": [
       "<div>\n",
       "<style scoped>\n",
       "    .dataframe tbody tr th:only-of-type {\n",
       "        vertical-align: middle;\n",
       "    }\n",
       "\n",
       "    .dataframe tbody tr th {\n",
       "        vertical-align: top;\n",
       "    }\n",
       "\n",
       "    .dataframe thead th {\n",
       "        text-align: right;\n",
       "    }\n",
       "</style>\n",
       "<table border=\"1\" class=\"dataframe\">\n",
       "  <thead>\n",
       "    <tr style=\"text-align: right;\">\n",
       "      <th></th>\n",
       "      <th>0</th>\n",
       "      <th>1</th>\n",
       "      <th>2</th>\n",
       "      <th>3</th>\n",
       "      <th>4</th>\n",
       "      <th>5</th>\n",
       "      <th>6</th>\n",
       "      <th>7</th>\n",
       "      <th>8</th>\n",
       "      <th>9</th>\n",
       "      <th>...</th>\n",
       "      <th>490</th>\n",
       "      <th>491</th>\n",
       "      <th>492</th>\n",
       "      <th>493</th>\n",
       "      <th>494</th>\n",
       "      <th>495</th>\n",
       "      <th>496</th>\n",
       "      <th>497</th>\n",
       "      <th>498</th>\n",
       "      <th>499</th>\n",
       "    </tr>\n",
       "  </thead>\n",
       "  <tbody>\n",
       "    <tr>\n",
       "      <th>0</th>\n",
       "      <td>1.000000</td>\n",
       "      <td>1.000000</td>\n",
       "      <td>1.000000</td>\n",
       "      <td>1.000000</td>\n",
       "      <td>1.000000</td>\n",
       "      <td>1.000000</td>\n",
       "      <td>1.000000</td>\n",
       "      <td>1.000000</td>\n",
       "      <td>1.000000</td>\n",
       "      <td>1.000000</td>\n",
       "      <td>...</td>\n",
       "      <td>1.000000</td>\n",
       "      <td>1.000000</td>\n",
       "      <td>1.000000</td>\n",
       "      <td>1.000000</td>\n",
       "      <td>1.000000</td>\n",
       "      <td>1.000000</td>\n",
       "      <td>1.000000</td>\n",
       "      <td>1.000000</td>\n",
       "      <td>1.000000</td>\n",
       "      <td>1.000000</td>\n",
       "    </tr>\n",
       "    <tr>\n",
       "      <th>1</th>\n",
       "      <td>1.004428</td>\n",
       "      <td>0.990979</td>\n",
       "      <td>1.003947</td>\n",
       "      <td>1.007596</td>\n",
       "      <td>0.997634</td>\n",
       "      <td>1.003396</td>\n",
       "      <td>1.012877</td>\n",
       "      <td>1.001636</td>\n",
       "      <td>0.998454</td>\n",
       "      <td>0.998464</td>\n",
       "      <td>...</td>\n",
       "      <td>0.993418</td>\n",
       "      <td>0.993167</td>\n",
       "      <td>1.007070</td>\n",
       "      <td>1.003863</td>\n",
       "      <td>0.998073</td>\n",
       "      <td>0.994317</td>\n",
       "      <td>1.000022</td>\n",
       "      <td>0.990201</td>\n",
       "      <td>0.994208</td>\n",
       "      <td>0.998282</td>\n",
       "    </tr>\n",
       "    <tr>\n",
       "      <th>2</th>\n",
       "      <td>1.002223</td>\n",
       "      <td>0.993335</td>\n",
       "      <td>1.002241</td>\n",
       "      <td>1.022158</td>\n",
       "      <td>0.997919</td>\n",
       "      <td>0.994863</td>\n",
       "      <td>1.013445</td>\n",
       "      <td>0.994951</td>\n",
       "      <td>0.996962</td>\n",
       "      <td>1.000056</td>\n",
       "      <td>...</td>\n",
       "      <td>1.002012</td>\n",
       "      <td>0.992803</td>\n",
       "      <td>1.004026</td>\n",
       "      <td>1.007907</td>\n",
       "      <td>0.996406</td>\n",
       "      <td>0.985020</td>\n",
       "      <td>1.004305</td>\n",
       "      <td>0.998020</td>\n",
       "      <td>0.999481</td>\n",
       "      <td>0.995679</td>\n",
       "    </tr>\n",
       "    <tr>\n",
       "      <th>3</th>\n",
       "      <td>1.011360</td>\n",
       "      <td>0.995773</td>\n",
       "      <td>1.006077</td>\n",
       "      <td>1.009588</td>\n",
       "      <td>1.004394</td>\n",
       "      <td>0.998185</td>\n",
       "      <td>1.016856</td>\n",
       "      <td>0.995721</td>\n",
       "      <td>0.998200</td>\n",
       "      <td>1.003978</td>\n",
       "      <td>...</td>\n",
       "      <td>1.010080</td>\n",
       "      <td>0.989230</td>\n",
       "      <td>1.005781</td>\n",
       "      <td>1.008626</td>\n",
       "      <td>1.002435</td>\n",
       "      <td>0.985579</td>\n",
       "      <td>1.005035</td>\n",
       "      <td>0.998185</td>\n",
       "      <td>0.995732</td>\n",
       "      <td>0.998456</td>\n",
       "    </tr>\n",
       "    <tr>\n",
       "      <th>4</th>\n",
       "      <td>1.022966</td>\n",
       "      <td>0.997742</td>\n",
       "      <td>1.001850</td>\n",
       "      <td>1.004480</td>\n",
       "      <td>1.009555</td>\n",
       "      <td>1.005427</td>\n",
       "      <td>1.010223</td>\n",
       "      <td>0.995186</td>\n",
       "      <td>0.997360</td>\n",
       "      <td>1.013137</td>\n",
       "      <td>...</td>\n",
       "      <td>1.013647</td>\n",
       "      <td>0.991890</td>\n",
       "      <td>1.003376</td>\n",
       "      <td>1.002279</td>\n",
       "      <td>0.998590</td>\n",
       "      <td>0.990826</td>\n",
       "      <td>1.008039</td>\n",
       "      <td>1.001984</td>\n",
       "      <td>1.003000</td>\n",
       "      <td>0.999420</td>\n",
       "    </tr>\n",
       "    <tr>\n",
       "      <th>...</th>\n",
       "      <td>...</td>\n",
       "      <td>...</td>\n",
       "      <td>...</td>\n",
       "      <td>...</td>\n",
       "      <td>...</td>\n",
       "      <td>...</td>\n",
       "      <td>...</td>\n",
       "      <td>...</td>\n",
       "      <td>...</td>\n",
       "      <td>...</td>\n",
       "      <td>...</td>\n",
       "      <td>...</td>\n",
       "      <td>...</td>\n",
       "      <td>...</td>\n",
       "      <td>...</td>\n",
       "      <td>...</td>\n",
       "      <td>...</td>\n",
       "      <td>...</td>\n",
       "      <td>...</td>\n",
       "      <td>...</td>\n",
       "      <td>...</td>\n",
       "    </tr>\n",
       "    <tr>\n",
       "      <th>7556</th>\n",
       "      <td>6.526844</td>\n",
       "      <td>9.598580</td>\n",
       "      <td>5.130632</td>\n",
       "      <td>12.100288</td>\n",
       "      <td>7.754774</td>\n",
       "      <td>13.145818</td>\n",
       "      <td>8.123115</td>\n",
       "      <td>13.778364</td>\n",
       "      <td>7.260905</td>\n",
       "      <td>15.110304</td>\n",
       "      <td>...</td>\n",
       "      <td>7.285375</td>\n",
       "      <td>5.080575</td>\n",
       "      <td>5.804465</td>\n",
       "      <td>8.132329</td>\n",
       "      <td>6.190259</td>\n",
       "      <td>3.472807</td>\n",
       "      <td>9.153118</td>\n",
       "      <td>2.616876</td>\n",
       "      <td>9.936815</td>\n",
       "      <td>8.634399</td>\n",
       "    </tr>\n",
       "    <tr>\n",
       "      <th>7557</th>\n",
       "      <td>6.508858</td>\n",
       "      <td>9.604944</td>\n",
       "      <td>5.123978</td>\n",
       "      <td>11.973001</td>\n",
       "      <td>7.763678</td>\n",
       "      <td>13.036779</td>\n",
       "      <td>8.095995</td>\n",
       "      <td>13.575574</td>\n",
       "      <td>7.338922</td>\n",
       "      <td>15.194691</td>\n",
       "      <td>...</td>\n",
       "      <td>7.308933</td>\n",
       "      <td>5.099536</td>\n",
       "      <td>5.806862</td>\n",
       "      <td>8.154276</td>\n",
       "      <td>6.167744</td>\n",
       "      <td>3.451546</td>\n",
       "      <td>9.195582</td>\n",
       "      <td>2.626039</td>\n",
       "      <td>9.975303</td>\n",
       "      <td>8.575984</td>\n",
       "    </tr>\n",
       "    <tr>\n",
       "      <th>7558</th>\n",
       "      <td>6.533697</td>\n",
       "      <td>9.581768</td>\n",
       "      <td>5.181983</td>\n",
       "      <td>12.063568</td>\n",
       "      <td>7.795507</td>\n",
       "      <td>13.024119</td>\n",
       "      <td>8.088799</td>\n",
       "      <td>13.616245</td>\n",
       "      <td>7.378372</td>\n",
       "      <td>15.283242</td>\n",
       "      <td>...</td>\n",
       "      <td>7.271707</td>\n",
       "      <td>5.108741</td>\n",
       "      <td>5.802511</td>\n",
       "      <td>8.127537</td>\n",
       "      <td>6.207720</td>\n",
       "      <td>3.463796</td>\n",
       "      <td>9.202684</td>\n",
       "      <td>2.609732</td>\n",
       "      <td>9.953262</td>\n",
       "      <td>8.650499</td>\n",
       "    </tr>\n",
       "    <tr>\n",
       "      <th>7559</th>\n",
       "      <td>6.530570</td>\n",
       "      <td>9.552313</td>\n",
       "      <td>5.183794</td>\n",
       "      <td>12.138738</td>\n",
       "      <td>7.842114</td>\n",
       "      <td>13.036949</td>\n",
       "      <td>8.114408</td>\n",
       "      <td>13.498522</td>\n",
       "      <td>7.372660</td>\n",
       "      <td>15.274753</td>\n",
       "      <td>...</td>\n",
       "      <td>7.275600</td>\n",
       "      <td>5.134421</td>\n",
       "      <td>5.821068</td>\n",
       "      <td>8.116131</td>\n",
       "      <td>6.185703</td>\n",
       "      <td>3.458890</td>\n",
       "      <td>9.227694</td>\n",
       "      <td>2.618534</td>\n",
       "      <td>10.019998</td>\n",
       "      <td>8.654509</td>\n",
       "    </tr>\n",
       "    <tr>\n",
       "      <th>7560</th>\n",
       "      <td>6.568175</td>\n",
       "      <td>9.517829</td>\n",
       "      <td>5.228092</td>\n",
       "      <td>12.065239</td>\n",
       "      <td>7.882676</td>\n",
       "      <td>13.079617</td>\n",
       "      <td>8.153997</td>\n",
       "      <td>13.614314</td>\n",
       "      <td>7.372215</td>\n",
       "      <td>15.325139</td>\n",
       "      <td>...</td>\n",
       "      <td>7.261006</td>\n",
       "      <td>5.113431</td>\n",
       "      <td>5.790233</td>\n",
       "      <td>8.145267</td>\n",
       "      <td>6.181056</td>\n",
       "      <td>3.417528</td>\n",
       "      <td>9.160039</td>\n",
       "      <td>2.621793</td>\n",
       "      <td>10.101574</td>\n",
       "      <td>8.697451</td>\n",
       "    </tr>\n",
       "  </tbody>\n",
       "</table>\n",
       "<p>7561 rows × 500 columns</p>\n",
       "</div>"
      ],
      "text/plain": [
       "           0         1         2          3         4          5         6    \\\n",
       "0     1.000000  1.000000  1.000000   1.000000  1.000000   1.000000  1.000000   \n",
       "1     1.004428  0.990979  1.003947   1.007596  0.997634   1.003396  1.012877   \n",
       "2     1.002223  0.993335  1.002241   1.022158  0.997919   0.994863  1.013445   \n",
       "3     1.011360  0.995773  1.006077   1.009588  1.004394   0.998185  1.016856   \n",
       "4     1.022966  0.997742  1.001850   1.004480  1.009555   1.005427  1.010223   \n",
       "...        ...       ...       ...        ...       ...        ...       ...   \n",
       "7556  6.526844  9.598580  5.130632  12.100288  7.754774  13.145818  8.123115   \n",
       "7557  6.508858  9.604944  5.123978  11.973001  7.763678  13.036779  8.095995   \n",
       "7558  6.533697  9.581768  5.181983  12.063568  7.795507  13.024119  8.088799   \n",
       "7559  6.530570  9.552313  5.183794  12.138738  7.842114  13.036949  8.114408   \n",
       "7560  6.568175  9.517829  5.228092  12.065239  7.882676  13.079617  8.153997   \n",
       "\n",
       "            7         8          9    ...       490       491       492  \\\n",
       "0      1.000000  1.000000   1.000000  ...  1.000000  1.000000  1.000000   \n",
       "1      1.001636  0.998454   0.998464  ...  0.993418  0.993167  1.007070   \n",
       "2      0.994951  0.996962   1.000056  ...  1.002012  0.992803  1.004026   \n",
       "3      0.995721  0.998200   1.003978  ...  1.010080  0.989230  1.005781   \n",
       "4      0.995186  0.997360   1.013137  ...  1.013647  0.991890  1.003376   \n",
       "...         ...       ...        ...  ...       ...       ...       ...   \n",
       "7556  13.778364  7.260905  15.110304  ...  7.285375  5.080575  5.804465   \n",
       "7557  13.575574  7.338922  15.194691  ...  7.308933  5.099536  5.806862   \n",
       "7558  13.616245  7.378372  15.283242  ...  7.271707  5.108741  5.802511   \n",
       "7559  13.498522  7.372660  15.274753  ...  7.275600  5.134421  5.821068   \n",
       "7560  13.614314  7.372215  15.325139  ...  7.261006  5.113431  5.790233   \n",
       "\n",
       "           493       494       495       496       497        498       499  \n",
       "0     1.000000  1.000000  1.000000  1.000000  1.000000   1.000000  1.000000  \n",
       "1     1.003863  0.998073  0.994317  1.000022  0.990201   0.994208  0.998282  \n",
       "2     1.007907  0.996406  0.985020  1.004305  0.998020   0.999481  0.995679  \n",
       "3     1.008626  1.002435  0.985579  1.005035  0.998185   0.995732  0.998456  \n",
       "4     1.002279  0.998590  0.990826  1.008039  1.001984   1.003000  0.999420  \n",
       "...        ...       ...       ...       ...       ...        ...       ...  \n",
       "7556  8.132329  6.190259  3.472807  9.153118  2.616876   9.936815  8.634399  \n",
       "7557  8.154276  6.167744  3.451546  9.195582  2.626039   9.975303  8.575984  \n",
       "7558  8.127537  6.207720  3.463796  9.202684  2.609732   9.953262  8.650499  \n",
       "7559  8.116131  6.185703  3.458890  9.227694  2.618534  10.019998  8.654509  \n",
       "7560  8.145267  6.181056  3.417528  9.160039  2.621793  10.101574  8.697451  \n",
       "\n",
       "[7561 rows x 500 columns]"
      ]
     },
     "execution_count": 19,
     "metadata": {},
     "output_type": "execute_result"
    }
   ],
   "source": [
    "# Running a Monte Carlo simulation to forecast 30 years cumulative returns\n",
    "MC_even_dist.calc_cumulative_return()"
   ]
  },
  {
   "cell_type": "code",
   "execution_count": 20,
   "metadata": {},
   "outputs": [
    {
     "data": {
      "image/png": "[encoded data removed]",
      "text/plain": [
       "<Figure size 432x288 with 1 Axes>"
      ]
     },
     "metadata": {
      "needs_background": "light"
     },
     "output_type": "display_data"
    }
   ],
   "source": [
    "# Plot simulation outcomes\n",
    "MC_line_plot = MC_even_dist.plot_simulation()"
   ]
  },
  {
   "cell_type": "code",
   "execution_count": 21,
   "metadata": {},
   "outputs": [
    {
     "data": {
      "image/png": "[encoded data removed]",
      "text/plain": [
       "<Figure size 432x288 with 1 Axes>"
      ]
     },
     "metadata": {
      "needs_background": "light"
     },
     "output_type": "display_data"
    }
   ],
   "source": [
    "# Plot probability distribution and confidence intervals\n",
    "MC_dist_plot = MC_even_dist.plot_distribution()"
   ]
  },
  {
   "cell_type": "markdown",
   "metadata": {},
   "source": [
    "### Retirement Analysis"
   ]
  },
  {
   "cell_type": "code",
   "execution_count": 22,
   "metadata": {},
   "outputs": [
    {
     "name": "stdout",
     "output_type": "stream",
     "text": [
      "count           500.000000\n",
      "mean              8.840074\n",
      "std               4.715255\n",
      "min               1.950134\n",
      "25%               5.493786\n",
      "50%               7.679880\n",
      "75%              11.069427\n",
      "max              32.143396\n",
      "95% CI Lower      2.968977\n",
      "95% CI Upper     20.240159\n",
      "Name: 7560, dtype: float64\n"
     ]
    }
   ],
   "source": [
    "# Fetch summary statistics from the Monte Carlo simulation results\n",
    "even_tbl = MC_even_dist.summarize_cumulative_return()\n",
    "\n",
    "# Print summary statistics\n",
    "print(even_tbl)"
   ]
  },
  {
   "cell_type": "markdown",
   "metadata": {},
   "source": [
    "### Calculate the expected portfolio return at the `95%` lower and upper confidence intervals based on a `$20,000` initial investment."
   ]
  },
  {
   "cell_type": "code",
   "execution_count": 23,
   "metadata": {},
   "outputs": [
    {
     "name": "stdout",
     "output_type": "stream",
     "text": [
      "There is a 95% chance that an initial investment of $20000 in the portfolio over the next 30 years will end within in the range of $59379.53 and $404803.17\n"
     ]
    }
   ],
   "source": [
    "# Set initial investment\n",
    "initial_investment = 20000\n",
    "\n",
    "# Use the lower and upper `95%` confidence intervals to calculate the range of the possible outcomes of our $20,000. Round to 2dp for visibility\n",
    "\n",
    "ci_lower = round(even_tbl[8]*initial_investment, 2)\n",
    "ci_upper = round(even_tbl[9]*initial_investment, 2)\n",
    "\n",
    "# Print results\n",
    "print(f\"There is a 95% chance that an initial investment of ${initial_investment} in the portfolio\"\n",
    "      f\" over the next 30 years will end within in the range of\"\n",
    "      f\" ${ci_lower} and ${ci_upper}\")"
   ]
  },
  {
   "cell_type": "markdown",
   "metadata": {},
   "source": [
    "### Calculate the expected portfolio return at the `95%` lower and upper confidence intervals based on a `50%` increase in the initial investment."
   ]
  },
  {
   "cell_type": "code",
   "execution_count": 24,
   "metadata": {},
   "outputs": [
    {
     "name": "stdout",
     "output_type": "stream",
     "text": [
      "There is a 95% chance that an initial investment of $30000.0 in the portfolio over the next 30 years will end within in the range of $89069.3 and $607204.76\n"
     ]
    }
   ],
   "source": [
    "# Set initial investment\n",
    "initial_investment = 20000 * 1.5\n",
    "\n",
    "# Use the lower and upper `95%` confidence intervals to calculate the range of the possible outcomes of our $30,000. ound to 2dp for visibility\n",
    "\n",
    "ci_lower = round(even_tbl[8]*initial_investment, 2)\n",
    "ci_upper = round(even_tbl[9]*initial_investment, 2)\n",
    "\n",
    "# Print results\n",
    "print(f\"There is a 95% chance that an initial investment of ${initial_investment} in the portfolio\"\n",
    "      f\" over the next 30 years will end within in the range of\"\n",
    "      f\" ${ci_lower} and ${ci_upper}\")"
   ]
  },
  {
   "cell_type": "markdown",
   "metadata": {},
   "source": [
    "## Optional Challenge - Early Retirement\n",
    "\n",
    "\n",
    "### Five Years Retirement Option"
   ]
  },
  {
   "cell_type": "code",
   "execution_count": 25,
   "metadata": {},
   "outputs": [],
   "source": [
    "# Configuring a Monte Carlo simulation to forecast 5 years cumulative returns\n",
    "# Pass"
   ]
  },
  {
   "cell_type": "code",
   "execution_count": 26,
   "metadata": {},
   "outputs": [],
   "source": [
    "# Running a Monte Carlo simulation to forecast 5 years cumulative returns\n",
    "# Pass"
   ]
  },
  {
   "cell_type": "code",
   "execution_count": 27,
   "metadata": {},
   "outputs": [],
   "source": [
    "# Plot simulation outcomes\n",
    "# Pass"
   ]
  },
  {
   "cell_type": "code",
   "execution_count": 28,
   "metadata": {},
   "outputs": [],
   "source": [
    "# Plot probability distribution and confidence intervals\n",
    "# Pass"
   ]
  },
  {
   "cell_type": "code",
   "execution_count": 29,
   "metadata": {},
   "outputs": [],
   "source": [
    "# Fetch summary statistics from the Monte Carlo simulation results\n",
    "# Pass\n",
    "\n",
    "# Print summary statistics\n",
    "# Pass"
   ]
  },
  {
   "cell_type": "code",
   "execution_count": 30,
   "metadata": {},
   "outputs": [
    {
     "ename": "NameError",
     "evalue": "name 'ci_lower_five' is not defined",
     "output_type": "error",
     "traceback": [
      "\u001b[0;31m---------------------------------------------------------------------------\u001b[0m",
      "\u001b[0;31mNameError\u001b[0m                                 Traceback (most recent call last)",
      "\u001b[0;32m/var/folders/yg/gflynh1165l2fdztwpqt_1wr0000gn/T/ipykernel_55735/2498605119.py\u001b[0m in \u001b[0;36m<module>\u001b[0;34m\u001b[0m\n\u001b[1;32m      6\u001b[0m \u001b[0;34m\u001b[0m\u001b[0m\n\u001b[1;32m      7\u001b[0m \u001b[0;31m# Print results\u001b[0m\u001b[0;34m\u001b[0m\u001b[0;34m\u001b[0m\u001b[0;34m\u001b[0m\u001b[0m\n\u001b[0;32m----> 8\u001b[0;31m print(f\"There is a 95% chance that an initial investment of ${initial_investment} in the portfolio\"\n\u001b[0m\u001b[1;32m      9\u001b[0m       \u001b[0;34mf\" over the next 5 years will end within in the range of\"\u001b[0m\u001b[0;34m\u001b[0m\u001b[0;34m\u001b[0m\u001b[0m\n\u001b[1;32m     10\u001b[0m       f\" ${ci_lower_five} and ${ci_upper_five}\")\n",
      "\u001b[0;31mNameError\u001b[0m: name 'ci_lower_five' is not defined"
     ]
    }
   ],
   "source": [
    "# Set initial investment\n",
    "# Pass\n",
    "\n",
    "# Use the lower and upper `95%` confidence intervals to calculate the range of the possible outcomes of our $60,000\n",
    "# Pass\n",
    "\n",
    "# Print results\n",
    "print(f\"There is a 95% chance that an initial investment of ${initial_investment} in the portfolio\"\n",
    "      f\" over the next 5 years will end within in the range of\"\n",
    "      f\" ${ci_lower_five} and ${ci_upper_five}\")"
   ]
  },
  {
   "cell_type": "markdown",
   "metadata": {},
   "source": [
    "### Ten Years Retirement Option"
   ]
  },
  {
   "cell_type": "code",
   "execution_count": null,
   "metadata": {},
   "outputs": [],
   "source": [
    "# Configuring a Monte Carlo simulation to forecast 10 years cumulative returns\n",
    "# Pass"
   ]
  },
  {
   "cell_type": "code",
   "execution_count": null,
   "metadata": {},
   "outputs": [],
   "source": [
    "# Running a Monte Carlo simulation to forecast 10 years cumulative returns\n",
    "# Pass"
   ]
  },
  {
   "cell_type": "code",
   "execution_count": null,
   "metadata": {},
   "outputs": [],
   "source": [
    "# Plot simulation outcomes\n",
    "# Pass"
   ]
  },
  {
   "cell_type": "code",
   "execution_count": null,
   "metadata": {},
   "outputs": [],
   "source": [
    "# Plot probability distribution and confidence intervals\n",
    "# Pass"
   ]
  },
  {
   "cell_type": "code",
   "execution_count": null,
   "metadata": {},
   "outputs": [],
   "source": [
    "# Fetch summary statistics from the Monte Carlo simulation results\n",
    "# Pass!\n",
    "\n",
    "# Print summary statistics\n",
    "# Pass"
   ]
  },
  {
   "cell_type": "code",
   "execution_count": null,
   "metadata": {},
   "outputs": [],
   "source": [
    "# Set initial investment\n",
    "# Pass\n",
    "\n",
    "# Use the lower and upper `95%` confidence intervals to calculate the range of the possible outcomes of our $60,000\n",
    "# Pass\n",
    "\n",
    "# Print results\n",
    "print(f\"There is a 95% chance that an initial investment of ${initial_investment} in the portfolio\"\n",
    "      f\" over the next 10 years will end within in the range of\"\n",
    "      f\" ${ci_lower_ten} and ${ci_upper_ten}\")"
   ]
  },
  {
   "cell_type": "code",
   "execution_count": null,
   "metadata": {},
   "outputs": [],
   "source": []
  }
 ],
 "metadata": {
  "kernelspec": {
   "display_name": "Python 3 (ipykernel)",
   "language": "python",
   "name": "python3"
  },
  "language_info": {
   "codemirror_mode": {
    "name": "ipython",
    "version": 3
   },
   "file_extension": ".py",
   "mimetype": "text/x-python",
   "name": "python",
   "nbconvert_exporter": "python",
   "pygments_lexer": "ipython3",
   "version": "3.7.11"
  },
  "nteract": {
   "version": "0.28.0"
  }
 },
 "nbformat": 4,
 "nbformat_minor": 4
}
